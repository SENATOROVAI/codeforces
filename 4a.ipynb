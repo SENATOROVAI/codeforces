{
 "cells": [
  {
   "cell_type": "code",
   "execution_count": null,
   "metadata": {},
   "outputs": [],
   "source": [
    "def print_(string: str = \"word\") -> str:\n",
    "    \"\"\" \n",
    "    # f string нужно чтобы подставить в строку перемнную , \n",
    "    \"\"\"\n",
    "    return f'Hello {string}' # f string , констуркция нужна для интерполяции строки , извлечение из строки ее значения №\n",
    "\n",
    "print_(\"kirill\") #чтобы вызвать функцию нужно написать название функции + круглые скобки \n",
    "print_()"
   ]
  },
  {
   "cell_type": "code",
   "execution_count": null,
   "metadata": {},
   "outputs": [],
   "source": [
    "#если есть оператор сравнения(==) всегда возращает булл ( true , false)\n"
   ]
  },
  {
   "cell_type": "code",
   "execution_count": null,
   "metadata": {},
   "outputs": [],
   "source": [
    "print(1,2,3,4,5,6,7)"
   ]
  },
  {
   "cell_type": "code",
   "execution_count": null,
   "metadata": {},
   "outputs": [],
   "source": [
    "def get_value(*x: int) -> float:\n",
    "    return x  # *x все собирает в кортеж \n",
    "get_value # snake case\n",
    "get_value(1,2,3,4,5,6,7,8) \n",
    "\n"
   ]
  },
  {
   "cell_type": "code",
   "execution_count": null,
   "metadata": {},
   "outputs": [],
   "source": [
    "tuple_ = (1, \"kirill\" , True) #кортёж -структура данных неизменяемая -хранит данные разных типов )\n",
    "\n",
    "type(tuple_) # data type  - tuple , какого типа твоя переменная , данные tuple не изменяемые данные "
   ]
  },
  {
   "cell_type": "code",
   "execution_count": null,
   "metadata": {},
   "outputs": [],
   "source": [
    "list_ = [1,2, True] # список это структура данных, изменяемая \n",
    "list_"
   ]
  },
  {
   "cell_type": "code",
   "execution_count": null,
   "metadata": {},
   "outputs": [],
   "source": [
    "data type:\n",
    "int,str,bool\n",
    "\n",
    "number: int = 1\n",
    "number: str = \"1\"\n",
    "number: bool = True\n",
    "number: bool = False\n",
    "    "
   ]
  },
  {
   "cell_type": "code",
   "execution_count": null,
   "metadata": {},
   "outputs": [],
   "source": [
    "def bool_(n: int) -> bool: # def - keyword, func_name(parameters): body func\n",
    "    \"\"\"\n",
    "    n - это парамтетр функции \n",
    "    \"\"\"\n",
    "    return n == 1 # оператор , не нужны круглые скобки \n",
    "    \n",
    "type(bool_(1)) # type - показывает тип данных\n",
    "bool_(1) # аргумент функции "
   ]
  },
  {
   "cell_type": "code",
   "execution_count": null,
   "metadata": {},
   "outputs": [],
   "source": [
    "list_.append(1) # через точку мы вызываем метод , функция в классе называется методом \n",
    "list_.append(1) # VOID  метод , не результирующий, не выводит ничего на экран \n",
    "\n",
    "типы методов:\n",
    "-void \n",
    "- результирующие , выводят инфу на экран \n",
    "\n"
   ]
  }
 ],
 "metadata": {
  "kernelspec": {
   "display_name": "Python 3",
   "language": "python",
   "name": "python3"
  },
  "language_info": {
   "codemirror_mode": {
    "name": "ipython",
    "version": 3
   },
   "file_extension": ".py",
   "mimetype": "text/x-python",
   "name": "python",
   "nbconvert_exporter": "python",
   "pygments_lexer": "ipython3",
   "version": "3.9.6"
  }
 },
 "nbformat": 4,
 "nbformat_minor": 2
}
